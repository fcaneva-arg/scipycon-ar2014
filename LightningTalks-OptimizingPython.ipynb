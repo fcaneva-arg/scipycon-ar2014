{
 "metadata": {
  "name": "",
  "signature": "sha256:ab5b1c33ebb474482cad2284eb3252c8836fdf004b1527a7b855c922c671ed99"
 },
 "nbformat": 3,
 "nbformat_minor": 0,
 "worksheets": [
  {
   "cells": [
    {
     "cell_type": "markdown",
     "metadata": {
      "internals": {
       "slide_helper": "subslide_end",
       "slide_type": "subslide"
      },
      "slide_helper": "subslide_end",
      "slideshow": {
       "slide_type": "slide"
      }
     },
     "source": [
      "![SciPyCon.ar 2014](static/images/scipycon-ar2014.png)\n",
      "\n",
      "[Lightning Talks] Optimizando C\u00f3digo Python\n",
      "===========================================\n",
      "\n",
      "Francisco C\u00e1neva - Universidad Nacional del Sur - 22 de Octubre de 2014\n",
      "\n",
      "![Email](static/images/email.png)\n",
      "<fjcaneva@gmail.com>\n",
      "\n",
      "![Github](static/images/github.jpg)\n",
      "<http://github.com/sonicarg>"
     ]
    },
    {
     "cell_type": "code",
     "collapsed": false,
     "input": [
      "# Pit stop: Importamos todos los m\u00f3dulos que vamos a usar en esta presentaci\u00f3n\n",
      "import dis\n",
      "import timeit\n",
      "import IPython\n",
      "import string\n",
      "import operator"
     ],
     "language": "python",
     "metadata": {
      "internals": {
       "frag_number": 1,
       "slide_helper": "subslide_end",
       "slide_type": "subslide"
      },
      "slide_helper": "slide_end",
      "slideshow": {
       "slide_type": "subslide"
      }
     },
     "outputs": []
    },
    {
     "cell_type": "markdown",
     "metadata": {
      "internals": {
       "frag_helper": "fragment_end",
       "frag_number": 1,
       "slide_helper": "subslide_end",
       "slide_type": "subslide"
      },
      "slide_helper": "subslide_end",
      "slideshow": {
       "slide_type": "slide"
      }
     },
     "source": [
      "\u00bfC\u00f3mo funciona Python a bajo nivel? **Es una m\u00e1quina de pila**: Inserta operandos en una pila de trabajo y los operadores los desapilan para trabajar con ellos para luego apilar el resultado obtenido."
     ]
    },
    {
     "cell_type": "markdown",
     "metadata": {
      "internals": {
       "frag_helper": "fragment_end",
       "frag_number": 1,
       "slide_helper": "subslide_end",
       "slide_type": "subslide"
      },
      "slide_helper": "subslide_end",
      "slideshow": {
       "slide_type": "subslide"
      }
     },
     "source": [
      "![Stack machine picture](static/images/stack_machine.png)\n",
      "\n",
      "*(Impl\u00edcitamente, este esquema de trabajo facilita la creaci\u00f3n de compiladores por su facilidad de generar c\u00f3digo objeto)*"
     ]
    },
    {
     "cell_type": "markdown",
     "metadata": {
      "internals": {
       "frag_helper": "fragment_end",
       "frag_number": 1,
       "slide_helper": "subslide_end",
       "slide_type": "subslide"
      },
      "slide_helper": "slide_end",
      "slideshow": {
       "slide_type": "subslide"
      }
     },
     "source": [
      "M\u00e1quinas de pilas conocidas usadas habitualmente:\n",
      "\n",
      "- Python \\[119 opcodes\\]\n",
      "- Java \\[203 opcodes\\]\n",
      "- Common Language Runtime (familia lenguajes .NET, ej: C#) \\[255 opcodes\\]\n",
      "- PostScript (PDF)\n",
      "\n",
      "Otras menos conocidas:\n",
      "\n",
      "- University of California, San Diego Pascal (UCSD Pascal)\n",
      "- Forth Virtual Machine (inclusive el lenguaje es de pila)\n",
      "- ..."
     ]
    },
    {
     "cell_type": "markdown",
     "metadata": {
      "internals": {
       "frag_helper": "fragment_end",
       "frag_number": 1,
       "slide_helper": "subslide_end",
       "slide_type": "subslide"
      },
      "slide_helper": "slide_end",
      "slideshow": {
       "slide_type": "slide"
      }
     },
     "source": [
      "\u00bfPor qu\u00e9 optimizar? **Mejora la velocidad de ejecuci\u00f3n y la eficiencia de nuestros programas**. Se busca hacer la misma operaci\u00f3n **usando la menor cantiodad posible de instrucciones**.\n",
      "\n",
      "\u00bfQu\u00e9 casos vamos a considerar? Python puro, tratando de no usar extensiones de terceros (`numpy`, `scipy`, etc): *sin aditivos ni conservantes :P*"
     ]
    },
    {
     "cell_type": "markdown",
     "metadata": {
      "internals": {
       "frag_helper": "fragment_end",
       "frag_number": 1,
       "slide_helper": "subslide_end",
       "slide_type": "subslide"
      },
      "slide_helper": "slide_end",
      "slideshow": {
       "slide_type": "slide"
      }
     },
     "source": [
      "(Mini) Consejos para incrementar la velocidad de ejecuci\u00f3n\n",
      "----------------------------------------------------------"
     ]
    },
    {
     "cell_type": "markdown",
     "metadata": {
      "internals": {
       "frag_helper": "fragment_end",
       "frag_number": 1,
       "slide_helper": "subslide_end",
       "slide_type": "subslide"
      },
      "slide_helper": "subslide_end",
      "slideshow": {
       "slide_type": "slide"
      }
     },
     "source": [
      "- **Loops (sobre todo los num\u00e9ricos)**: Evitar usar listas en general, siempre que se pueda usar *generadores*.\n",
      "> Un generador es un tipo de objeto especial de Python que genera valores basados en funciones. Se caracterizan por tener un estado interno impl\u00edcito y por el uso de la palabra especial *yield*."
     ]
    },
    {
     "cell_type": "markdown",
     "metadata": {
      "internals": {
       "frag_helper": "fragment_end",
       "frag_number": 1,
       "slide_helper": "subslide_end",
       "slide_type": "subslide"
      },
      "slide_helper": "subslide_end",
      "slideshow": {
       "slide_type": "subslide"
      }
     },
     "source": [
      "Un generador puede ser tan sencillo como:\n",
      "```python\n",
      "def generador_simple():\n",
      "  yield \"a\"\n",
      "``` \n",
      "\n",
      " Otro (que ya existe predefinido) es `xrange` que, a diferencia de su primo `range` es un **generador**. A continuaci\u00f3n, veremos c\u00f3mo se implementan:"
     ]
    },
    {
     "cell_type": "markdown",
     "metadata": {
      "internals": {
       "frag_helper": "fragment_end",
       "frag_number": 1,
       "slide_helper": "subslide_end",
       "slide_type": "subslide"
      },
      "slide_helper": "subslide_end",
      "slideshow": {
       "slide_type": "subslide"
      }
     },
     "source": [
      "```python\n",
      "def range(start=0, stop, step=1):\n",
      "  result = []\n",
      "  current = start\n",
      "  while current < stop:\n",
      "    result.append(current)\n",
      "    current += step\n",
      "  return result\n",
      "```\n",
      "\n",
      "```python\n",
      "def xrange (start=0, stop, step=1):\n",
      "  current = start\n",
      "  while current < stop:\n",
      "    yield current\n",
      "    current += step\n",
      "```"
     ]
    },
    {
     "cell_type": "markdown",
     "metadata": {
      "internals": {
       "frag_helper": "fragment_end",
       "frag_number": 1,
       "slide_helper": "subslide_end",
       "slide_type": "subslide"
      },
      "slide_helper": "subslide_end",
      "slideshow": {
       "slide_type": "subslide"
      }
     },
     "source": [
      "La ejecuci\u00f3n de una funci\u00f3n difiere de un generador: mientras que la funci\u00f3n se ejecuta como tal, **un generador se ejecuta hasta llegar a un** *yield* **, se detiene y guarda su estado interno de forma aparte al procedimiento que lo llam\u00f3**. Cuando se necesite otra vez, **se recarga el estado interno y se vuelve a ejecutar nuevamente hasta el** *yield*. Cuando la funci\u00f3n sale (porque la condici\u00f3n de corte se cumpli\u00f3), se devuelve un `None` de forma autom\u00e1tica.\n",
      "\n",
      "Curiosamente, el `for x in generator` itera mientras el elemento que se obtiene del generador **no** sea `None`. Cuando se da este \u00faltimo caso, se contin\u00faa la ejecuci\u00f3n a continuaci\u00f3n del bloque `for`.\n",
      "\n",
      "Con ello, se mejora en **velocidad** y en **uso de memoria** ya que, el generador no es ejecutado hasta que el loop demande un valor para continuar iterando. Con las listas, es necesario generarla antes de poder realmente comenzar a iterar sobre sus valores."
     ]
    },
    {
     "cell_type": "code",
     "collapsed": false,
     "input": [
      "timeit.timeit(\"range(1000)\", number=10000)"
     ],
     "language": "python",
     "metadata": {
      "internals": {
       "frag_helper": "fragment_end",
       "frag_number": 1,
       "slide_type": "subslide"
      },
      "slideshow": {
       "slide_type": "subslide"
      }
     },
     "outputs": []
    },
    {
     "cell_type": "code",
     "collapsed": false,
     "input": [
      "timeit.timeit(\"xrange(1000)\", number=10000)"
     ],
     "language": "python",
     "metadata": {
      "internals": {
       "slide_helper": "subslide_end"
      },
      "slide_helper": "subslide_end",
      "slideshow": {
       "slide_type": "-"
      }
     },
     "outputs": []
    },
    {
     "cell_type": "code",
     "collapsed": false,
     "input": [
      "timeit.timeit(\"for n in range(1000): pass\", number=10000)"
     ],
     "language": "python",
     "metadata": {
      "internals": {
       "frag_helper": "fragment_end",
       "frag_number": 1,
       "slide_type": "subslide"
      },
      "slideshow": {
       "slide_type": "subslide"
      }
     },
     "outputs": []
    },
    {
     "cell_type": "code",
     "collapsed": false,
     "input": [
      "timeit.timeit(\"for n in xrange(1000): pass\", number=10000)"
     ],
     "language": "python",
     "metadata": {
      "internals": {
       "slide_helper": "subslide_end"
      },
      "slide_helper": "slide_end",
      "slideshow": {
       "slide_type": "-"
      }
     },
     "outputs": []
    },
    {
     "cell_type": "markdown",
     "metadata": {
      "internals": {
       "frag_helper": "fragment_end",
       "frag_number": 1,
       "slide_helper": "subslide_end",
       "slide_type": "subslide"
      },
      "slide_helper": "subslide_end",
      "slideshow": {
       "slide_type": "slide"
      }
     },
     "source": [
      "- **Creaci\u00f3n de listas**: de la mano de lo que vimos antes, es m\u00e1s eficiente crear listas usando atajos *(siempre y cuando contengan elementos repetitivos)*"
     ]
    },
    {
     "cell_type": "markdown",
     "metadata": {
      "internals": {
       "frag_helper": "fragment_end",
       "frag_number": 1,
       "slide_helper": "subslide_end",
       "slide_type": "subslide"
      },
      "slide_helper": "subslide_end",
      "slideshow": {
       "slide_type": "subslide"
      }
     },
     "source": [
      "```python\n",
      "def list_create(element, quantity):\n",
      "  result = []\n",
      "  for n in range(quantity):\n",
      "    result.append(element)\n",
      "  return result\n",
      "  \n",
      "my_list = list_create(None, 1000)\n",
      "```\n",
      "\n",
      "Esto cumple su cometido pero, sin lugar a dudas, es *terriblemente* ineficiente. Un ejemplo mucho mas eficiente (y *Pythonic*) ser\u00eda:\n",
      "\n",
      "```python\n",
      "my_list = [None] * 1000\n",
      "```"
     ]
    },
    {
     "cell_type": "markdown",
     "metadata": {
      "internals": {
       "frag_helper": "fragment_end",
       "frag_number": 1,
       "slide_type": "subslide"
      },
      "slideshow": {
       "slide_type": "subslide"
      }
     },
     "source": [
      "Aprovechando la sobrecarga de operadores, multiplicar una lista implica crear tantas veces como se indique copias de los elementos en las listas y luego concatenarlas en una \u00fanica lista."
     ]
    },
    {
     "cell_type": "code",
     "collapsed": false,
     "input": [
      "[1, 2, \"a\", \"b\"] * 6"
     ],
     "language": "python",
     "metadata": {
      "internals": {
       "slide_helper": "subslide_end"
      },
      "slide_helper": "subslide_end",
      "slideshow": {
       "slide_type": "-"
      }
     },
     "outputs": []
    },
    {
     "cell_type": "markdown",
     "metadata": {
      "internals": {
       "frag_helper": "fragment_end",
       "frag_number": 1,
       "slide_helper": "subslide_end",
       "slide_type": "subslide"
      },
      "slide_helper": "subslide_end",
      "slideshow": {
       "slide_type": "subslide"
      }
     },
     "source": [
      "*Tip:* para los que quieran chusmear c\u00f3mo se transforman las funciones en bytecode Python, pueden usar el m\u00f3dulo `dis` (de `dissasembly`)."
     ]
    },
    {
     "cell_type": "code",
     "collapsed": false,
     "input": [
      "def list_create(element, quantity):\n",
      "  result = []\n",
      "  for n in range(quantity):\n",
      "    result.append(element)\n",
      "  return result\n",
      "\n",
      "dis.dis(list_create)"
     ],
     "language": "python",
     "metadata": {
      "internals": {
       "frag_helper": "fragment_end",
       "frag_number": 1,
       "slide_helper": "subslide_end",
       "slide_type": "subslide"
      },
      "slide_helper": "subslide_end",
      "slideshow": {
       "slide_type": "subslide"
      }
     },
     "outputs": []
    },
    {
     "cell_type": "code",
     "collapsed": false,
     "input": [
      "def fast_list_create(element, quantity):\n",
      "    return [element] * quantity\n",
      "\n",
      "dis.dis(fast_list_create)"
     ],
     "language": "python",
     "metadata": {
      "internals": {
       "frag_helper": "fragment_end",
       "frag_number": 1,
       "slide_helper": "subslide_end",
       "slide_type": "subslide"
      },
      "slide_helper": "slide_end",
      "slideshow": {
       "slide_type": "subslide"
      }
     },
     "outputs": []
    },
    {
     "cell_type": "markdown",
     "metadata": {
      "internals": {
       "frag_helper": "fragment_end",
       "frag_number": 1,
       "slide_helper": "subslide_end",
       "slide_type": "subslide"
      },
      "slide_helper": "subslide_end",
      "slideshow": {
       "slide_type": "slide"
      }
     },
     "source": [
      "- **Concatenaci\u00f3n de strings**: Resulta m\u00e1s eficiente concatenar strings *\u00e0-la-C* que usando una mera suma de strings. Para lograr dicho formateo, se usa el operador m\u00f3dulo (`%`, vean m\u00e1s abajo un ejemplo). Tambi\u00e9n se puede usar [str.format][1] para lograr el mismo efecto.\n",
      "\n",
      "[1]:https://docs.python.org/2/library/stdtypes.html#str.format"
     ]
    },
    {
     "cell_type": "code",
     "collapsed": false,
     "input": [
      "vowels = ['a', 'e', 'i', 'o', 'u']\n",
      "consonants = sorted(list(set(string.ascii_lowercase) - set(vowels)))"
     ],
     "language": "python",
     "metadata": {
      "internals": {
       "frag_helper": "fragment_end",
       "frag_number": 1,
       "slide_helper": "subslide_end",
       "slide_type": "subslide"
      },
      "slide_helper": "subslide_end",
      "slideshow": {
       "slide_type": "subslide"
      }
     },
     "outputs": []
    },
    {
     "cell_type": "code",
     "collapsed": false,
     "input": [
      "def strings_summing_1():\n",
      "    s = \"\"\n",
      "    for letter in consonants:\n",
      "        s += letter\n",
      "    return s\n",
      "\n",
      "timeit.timeit(strings_summing_1, number=10000)  # strings_summing_1 es un objeto tipo funci\u00f3n"
     ],
     "language": "python",
     "metadata": {
      "internals": {
       "frag_helper": "fragment_end",
       "frag_number": 1,
       "slide_type": "subslide"
      },
      "slideshow": {
       "slide_type": "subslide"
      }
     },
     "outputs": []
    },
    {
     "cell_type": "code",
     "collapsed": false,
     "input": [
      "def strings_joining():\n",
      "    return \"\".join(consonants)\n",
      "\n",
      "timeit.timeit(strings_joining, number=10000)"
     ],
     "language": "python",
     "metadata": {
      "internals": {
       "slide_helper": "subslide_end"
      },
      "slide_helper": "subslide_end",
      "slideshow": {
       "slide_type": "-"
      }
     },
     "outputs": []
    },
    {
     "cell_type": "code",
     "collapsed": false,
     "input": [
      "def strings_summing_2():\n",
      "    s = \"\"\n",
      "    for letter in consonants:\n",
      "        s += letter\n",
      "    return s\n",
      "\n",
      "timeit.timeit(strings_summing_2, number=10000)"
     ],
     "language": "python",
     "metadata": {
      "internals": {
       "frag_helper": "fragment_end",
       "frag_number": 1,
       "slide_type": "subslide"
      },
      "slideshow": {
       "slide_type": "subslide"
      }
     },
     "outputs": []
    },
    {
     "cell_type": "code",
     "collapsed": false,
     "input": [
      "def strings_a_la_c():\n",
      "    formatter = \"%s\" * len(consonants)  # Multiplicar un string por un escalar lo copia varias veces\n",
      "    return formatter % tuple(consonants)  # El operador modulo es SIEMPRE str % tuple\n",
      "\n",
      "timeit.timeit(strings_a_la_c, number=10000)"
     ],
     "language": "python",
     "metadata": {
      "internals": {
       "slide_helper": "subslide_end"
      },
      "slide_helper": "slide_end",
      "slideshow": {
       "slide_type": "-"
      }
     },
     "outputs": []
    },
    {
     "cell_type": "markdown",
     "metadata": {
      "internals": {
       "frag_helper": "fragment_end",
       "frag_number": 1,
       "slide_helper": "subslide_end",
       "slide_type": "subslide"
      },
      "slide_helper": "subslide_end",
      "slideshow": {
       "slide_type": "slide"
      }
     },
     "source": [
      "- **Intentar usar m\u00e1s funciones predefinidas**: Usando las opciones que ya existen en Python, generan menos opcodes para ejecutar y, con ello, aumenta la velocidad."
     ]
    },
    {
     "cell_type": "markdown",
     "metadata": {
      "internals": {
       "frag_helper": "fragment_end",
       "frag_number": 1,
       "slide_type": "subslide"
      },
      "slideshow": {
       "slide_type": "subslide"
      }
     },
     "source": [
      "Incializar un diccionario con dos listas de igual longitud: `zip` y generadores (el `x for x in iterable` es un generador impl\u00edcito)"
     ]
    },
    {
     "cell_type": "code",
     "collapsed": false,
     "input": [
      "{k:v for k,v in zip([\"a\",\"b\",\"c\"], [1,2,3])}"
     ],
     "language": "python",
     "metadata": {
      "internals": {
       "frag_helper": "fragment_end",
       "frag_number": 1,
       "slide_helper": "subslide_end"
      },
      "slide_helper": "subslide_end",
      "slideshow": {
       "slide_type": "-"
      }
     },
     "outputs": []
    },
    {
     "cell_type": "markdown",
     "metadata": {
      "internals": {
       "frag_helper": "fragment_end",
       "frag_number": 1,
       "slide_type": "subslide"
      },
      "slideshow": {
       "slide_type": "subslide"
      }
     },
     "source": [
      "Realizar una multiplicaci\u00f3n vectorial: `sum`, `map` y `operator`"
     ]
    },
    {
     "cell_type": "markdown",
     "metadata": {
      "internals": {
       "frag_helper": "fragment_end",
       "frag_number": 1
      },
      "slideshow": {
       "slide_type": "-"
      }
     },
     "source": [
      "\\begin{eqnarray}\n",
      "\\vec{a}=(1,2,3) \\\\\n",
      "\\vec{b}=(4,-5,6) \\\\\n",
      "\\vec{a} \\cdot \\vec{b} = 1(4)+2(-5)+3(6) = 4-10+18=12.\n",
      "\\end{eqnarray}\n",
      "\n"
     ]
    },
    {
     "cell_type": "code",
     "collapsed": false,
     "input": [
      "a = [1, 2, 3]\n",
      "b = [4, -5, 6]\n",
      "\n",
      "def dotproduct(vec_a, vec_b):\n",
      "    return sum(map(operator.mul, vec_a, vec_b))\n",
      "\n",
      "print \"Resultado: %d\" % dotproduct(a, b)\n",
      "print\n",
      "print \"Desensamblado:\"\n",
      "dis.dis(dotproduct)"
     ],
     "language": "python",
     "metadata": {
      "internals": {
       "frag_helper": "fragment_end",
       "frag_number": 1,
       "slide_helper": "subslide_end"
      },
      "slide_helper": "slide_end",
      "slideshow": {
       "slide_type": "-"
      }
     },
     "outputs": []
    },
    {
     "cell_type": "markdown",
     "metadata": {
      "internals": {
       "frag_helper": "fragment_end",
       "frag_number": 1,
       "slide_type": "subslide"
      },
      "slideshow": {
       "slide_type": "slide"
      }
     },
     "source": [
      "- (Y, llegado a este punto, por fuera de esta Lightning talk) **Usar extensiones nativas en C/C++ o cualquier lenguaje compilado**. Se recomienda tener a mano a Cython para facilitar las conexiones con Python, porque permite importar el c\u00f3digo nativo generado de manera transparente en aplicaciones Python."
     ]
    },
    {
     "cell_type": "markdown",
     "metadata": {
      "internals": {
       "frag_helper": "fragment_end",
       "frag_number": 1,
       "slide_helper": "subslide_end"
      },
      "slide_helper": "slide_end",
      "slideshow": {
       "slide_type": "-"
      }
     },
     "source": [
      "Python, como la mayor\u00eda de las m\u00e1quinas virtuales, usa un esquema de ejecuci\u00f3n llamado *Just in time* (JIT, en espa\u00f1ol: *Compilado en el momento*). Al usar Cython se usa un esquema *Ahead of time* (AOT, en espa\u00f1ol: *Compilado por adelantado*): con esto, logra una mayor cercan\u00eda con el CPU y le otorga m\u00e1s velocidad."
     ]
    },
    {
     "cell_type": "markdown",
     "metadata": {
      "internals": {
       "frag_helper": "fragment_end",
       "frag_number": 1,
       "slide_helper": "subslide_end",
       "slide_type": "subslide"
      },
      "slide_helper": "slide_end",
      "slideshow": {
       "slide_type": "slide"
      }
     },
     "source": [
      "M\u00e1s tips de optimizaci\u00f3n\n",
      "\n",
      "<https://wiki.python.org/moin/PythonSpeed/PerformanceTips>"
     ]
    },
    {
     "cell_type": "markdown",
     "metadata": {
      "internals": {
       "frag_helper": "fragment_end",
       "frag_number": 1,
       "slide_helper": "subslide_end",
       "slide_type": "subslide"
      },
      "slide_helper": "slide_end",
      "slideshow": {
       "slide_type": "slide"
      }
     },
     "source": [
      "GRACIAS :)\n",
      "=========="
     ]
    }
   ],
   "metadata": {}
  }
 ]
}