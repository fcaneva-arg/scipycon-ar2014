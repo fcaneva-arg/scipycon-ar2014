{
 "metadata": {
  "name": "",
  "signature": "sha256:5b08bacebf0d08676e1d2ec6a9a2c1d9bdeda37d5b44947c7c3f33ca915888ea"
 },
 "nbformat": 3,
 "nbformat_minor": 0,
 "worksheets": [
  {
   "cells": [
    {
     "cell_type": "markdown",
     "metadata": {
      "internals": {
       "slide_helper": "subslide_end",
       "slide_type": "subslide"
      },
      "slide_helper": "subslide_end",
      "slideshow": {
       "slide_type": "slide"
      }
     },
     "source": [
      "![SciPyCon.ar 2014](static/images/scipycon-ar2014.png)\n",
      "\n",
      "[Lightning Talks] Optimizing Python Code\n",
      "===========================================\n",
      "\n",
      "Francisco C\u00e1neva - Universidad Nacional del Sur - October 22nd, 2014\n",
      "\n",
      "![Email](static/images/email.png)\n",
      "<fjcaneva@gmail.com>\n",
      "\n",
      "![Github](static/images/github.jpg)\n",
      "<http://github.com/sonicarg>"
     ]
    },
    {
     "cell_type": "code",
     "collapsed": false,
     "input": [
      "# Pit stop: Let's import all modules we'll be using for this presentation\n",
      "import dis\n",
      "import timeit\n",
      "import IPython\n",
      "import string\n",
      "import operator"
     ],
     "language": "python",
     "metadata": {
      "internals": {
       "frag_number": 1,
       "slide_helper": "subslide_end",
       "slide_type": "subslide"
      },
      "slide_helper": "slide_end",
      "slideshow": {
       "slide_type": "subslide"
      }
     },
     "outputs": []
    },
    {
     "cell_type": "markdown",
     "metadata": {
      "internals": {
       "frag_helper": "fragment_end",
       "frag_number": 1,
       "slide_helper": "subslide_end",
       "slide_type": "subslide"
      },
      "slide_helper": "subslide_end",
      "slideshow": {
       "slide_type": "slide"
      }
     },
     "source": [
      "How does Python work at low level? **Works as a stack machine:** it inserts operands in a work stack and then operations and functions pop and work over them and push results back to stack."
     ]
    },
    {
     "cell_type": "markdown",
     "metadata": {
      "internals": {
       "frag_helper": "fragment_end",
       "frag_number": 1,
       "slide_helper": "subslide_end",
       "slide_type": "subslide"
      },
      "slide_helper": "subslide_end",
      "slideshow": {
       "slide_type": "subslide"
      }
     },
     "source": [
      "![Stack machine picture](static/images/stack_machine.png)\n",
      "\n",
      "*(Implicitly, this working scheme allows easy compiler creation due the easiness to create object code)*"
     ]
    },
    {
     "cell_type": "markdown",
     "metadata": {
      "internals": {
       "frag_helper": "fragment_end",
       "frag_number": 1,
       "slide_helper": "subslide_end",
       "slide_type": "subslide"
      },
      "slide_helper": "slide_end",
      "slideshow": {
       "slide_type": "subslide"
      }
     },
     "source": [
      "Examples of well known stack machines are:\n",
      "\n",
      "- Python \\[119 opcodes\\]\n",
      "- Java \\[203 opcodes\\]\n",
      "- Common Language Runtime (.NET languages family, eg: C#) \\[255 opcodes\\]\n",
      "- PostScript (PDF)\n",
      "\n",
      "Less known machines are:\n",
      "\n",
      "- University of California, San Diego Pascal (UCSD Pascal)\n",
      "- Forth Virtual Machine (programming language is also stack-Oriented)\n",
      "- ..."
     ]
    },
    {
     "cell_type": "markdown",
     "metadata": {
      "internals": {
       "frag_helper": "fragment_end",
       "frag_number": 1,
       "slide_helper": "subslide_end",
       "slide_type": "subslide"
      },
      "slide_helper": "slide_end",
      "slideshow": {
       "slide_type": "slide"
      }
     },
     "source": [
      "Why optimizing? **Throttles running speed and improves memory usage**. The objective is to do any action **using the least quantity of instructions as possible**.\n",
      "\n",
      "Which cases are we considering? 100% pure Python, without third-parties (`numpy`, `scipy`, etc): *with no additives nor preservatives :P*"
     ]
    },
    {
     "cell_type": "markdown",
     "metadata": {
      "internals": {
       "frag_helper": "fragment_end",
       "frag_number": 1,
       "slide_helper": "subslide_end",
       "slide_type": "subslide"
      },
      "slide_helper": "slide_end",
      "slideshow": {
       "slide_type": "slide"
      }
     },
     "source": [
      "(Mini) Tips for improving running time\n",
      "--------------------------------------"
     ]
    },
    {
     "cell_type": "markdown",
     "metadata": {
      "internals": {
       "frag_helper": "fragment_end",
       "frag_number": 1,
       "slide_helper": "subslide_end",
       "slide_type": "subslide"
      },
      "slide_helper": "subslide_end",
      "slideshow": {
       "slide_type": "slide"
      }
     },
     "source": [
      "- **Loops (mostly the numeric ones)**: Avoid using lists in general, use *generators* if possible.\n",
      "> A generator is a Python special object which generates values based on functions. Their main attribute is that they have an implicit internal state and using the *yield* keyword."
     ]
    },
    {
     "cell_type": "markdown",
     "metadata": {
      "internals": {
       "frag_helper": "fragment_end",
       "frag_number": 1,
       "slide_helper": "subslide_end",
       "slide_type": "subslide"
      },
      "slide_helper": "subslide_end",
      "slideshow": {
       "slide_type": "subslide"
      }
     },
     "source": [
      "A generator can be so simple like:\n",
      "\n",
      "```python\n",
      "def simple_generator():\n",
      "  yield \"a\"\n",
      "``` \n",
      "\n",
      "Another example of (built-in) generators is `xrange` which works exactly like his \"cousin\" `range`, except the first is an **generator**. The (emulated) implementation of both functions are:"
     ]
    },
    {
     "cell_type": "markdown",
     "metadata": {
      "internals": {
       "frag_helper": "fragment_end",
       "frag_number": 1,
       "slide_helper": "subslide_end",
       "slide_type": "subslide"
      },
      "slide_helper": "subslide_end",
      "slideshow": {
       "slide_type": "subslide"
      }
     },
     "source": [
      "```python\n",
      "def range(start=0, stop, step=1):\n",
      "  result = []\n",
      "  current = start\n",
      "  while current < stop:\n",
      "    result.append(current)\n",
      "    current += step\n",
      "  return result\n",
      "```\n",
      "\n",
      "```python\n",
      "def xrange (start=0, stop, step=1):\n",
      "  current = start\n",
      "  while current < stop:\n",
      "    yield current\n",
      "    current += step\n",
      "```"
     ]
    },
    {
     "cell_type": "markdown",
     "metadata": {
      "internals": {
       "frag_helper": "fragment_end",
       "frag_number": 1,
       "slide_helper": "subslide_end",
       "slide_type": "subslide"
      },
      "slide_helper": "subslide_end",
      "slideshow": {
       "slide_type": "subslide"
      }
     },
     "source": [
      "Functions differ from generators in its way of exectution: while a function works as is (starts and runs until end or reaches a *return*, **generators run until they reach a** *yield* **keyword, sends that value to the caller function, stops its execution and stores its internal state separately from the program stack**. Whenever it is needed again, **execution info is restored and it is set to run until another** *yield* **sentence is hit**. When generator exits (due we reach a loop end), a `None` value is returned automatically to the caller.\n",
      "\n",
      "Curiously, the `for x in generator` loops while the returned elemenent is **not** a `None`. When this case is reached, the execution of program jumps after the `for`.\n",
      "\n",
      "With generators both **speed** and **memory usage** are improved due to the fact that the generator doesn't run until the `for` demands a value for looping. With lists, it is necessary to fully generate them before start iterating over its values."
     ]
    },
    {
     "cell_type": "code",
     "collapsed": false,
     "input": [
      "timeit.timeit(\"range(1000)\", number=10000)"
     ],
     "language": "python",
     "metadata": {
      "internals": {
       "frag_helper": "fragment_end",
       "frag_number": 1,
       "slide_type": "subslide"
      },
      "slideshow": {
       "slide_type": "subslide"
      }
     },
     "outputs": []
    },
    {
     "cell_type": "code",
     "collapsed": false,
     "input": [
      "timeit.timeit(\"xrange(1000)\", number=10000)"
     ],
     "language": "python",
     "metadata": {
      "internals": {
       "slide_helper": "subslide_end"
      },
      "slide_helper": "subslide_end",
      "slideshow": {
       "slide_type": "-"
      }
     },
     "outputs": []
    },
    {
     "cell_type": "code",
     "collapsed": false,
     "input": [
      "timeit.timeit(\"for n in range(1000): pass\", number=10000)"
     ],
     "language": "python",
     "metadata": {
      "internals": {
       "frag_helper": "fragment_end",
       "frag_number": 1,
       "slide_type": "subslide"
      },
      "slideshow": {
       "slide_type": "subslide"
      }
     },
     "outputs": []
    },
    {
     "cell_type": "code",
     "collapsed": false,
     "input": [
      "timeit.timeit(\"for n in xrange(1000): pass\", number=10000)"
     ],
     "language": "python",
     "metadata": {
      "internals": {
       "slide_helper": "subslide_end"
      },
      "slide_helper": "slide_end",
      "slideshow": {
       "slide_type": "-"
      }
     },
     "outputs": []
    },
    {
     "cell_type": "markdown",
     "metadata": {
      "internals": {
       "frag_helper": "fragment_end",
       "frag_number": 1,
       "slide_helper": "subslide_end",
       "slide_type": "subslide"
      },
      "slide_helper": "subslide_end",
      "slideshow": {
       "slide_type": "slide"
      }
     },
     "source": [
      "- **List creations**: using what we've seen, it's far more efficient creating lists using shortcuts *(only and if only they have repetitive elements)*"
     ]
    },
    {
     "cell_type": "markdown",
     "metadata": {
      "internals": {
       "frag_helper": "fragment_end",
       "frag_number": 1,
       "slide_helper": "subslide_end",
       "slide_type": "subslide"
      },
      "slide_helper": "subslide_end",
      "slideshow": {
       "slide_type": "subslide"
      }
     },
     "source": [
      "```python\n",
      "def list_create(element, quantity):\n",
      "  result = []\n",
      "  for n in range(quantity):\n",
      "    result.append(element)\n",
      "  return result\n",
      "  \n",
      "my_list = list_create(None, 1000)\n",
      "```\n",
      "\n",
      "This runs according what we want but is *horribly* inefficient. A more efficient example (and more *Pythonic*) would be:\n",
      "\n",
      "\n",
      "```python\n",
      "my_list = [None] * 1000\n",
      "```"
     ]
    },
    {
     "cell_type": "markdown",
     "metadata": {
      "internals": {
       "frag_helper": "fragment_end",
       "frag_number": 1,
       "slide_type": "subslide"
      },
      "slideshow": {
       "slide_type": "subslide"
      }
     },
     "source": [
      "Taking the advantage of operator overload, multiplying a list with a number results in creating many copies of that list and join all its elements in a single list."
     ]
    },
    {
     "cell_type": "code",
     "collapsed": false,
     "input": [
      "[1, 2, \"a\", \"b\"] * 6"
     ],
     "language": "python",
     "metadata": {
      "internals": {
       "slide_helper": "subslide_end"
      },
      "slide_helper": "subslide_end",
      "slideshow": {
       "slide_type": "-"
      }
     },
     "outputs": []
    },
    {
     "cell_type": "markdown",
     "metadata": {
      "internals": {
       "frag_helper": "fragment_end",
       "frag_number": 1,
       "slide_helper": "subslide_end",
       "slide_type": "subslide"
      },
      "slide_helper": "subslide_end",
      "slideshow": {
       "slide_type": "subslide"
      }
     },
     "source": [
      "*Tip:* for curious people that would like to know how functions are made in Python bytecode, you can use the `dis` (standing for `dissasembly`) module."
     ]
    },
    {
     "cell_type": "code",
     "collapsed": false,
     "input": [
      "def list_create(element, quantity):\n",
      "  result = []\n",
      "  for n in range(quantity):\n",
      "    result.append(element)\n",
      "  return result\n",
      "\n",
      "dis.dis(list_create)"
     ],
     "language": "python",
     "metadata": {
      "internals": {
       "frag_helper": "fragment_end",
       "frag_number": 1,
       "slide_helper": "subslide_end",
       "slide_type": "subslide"
      },
      "slide_helper": "subslide_end",
      "slideshow": {
       "slide_type": "subslide"
      }
     },
     "outputs": []
    },
    {
     "cell_type": "code",
     "collapsed": false,
     "input": [
      "def fast_list_create(element, quantity):\n",
      "    return [element] * quantity\n",
      "\n",
      "dis.dis(fast_list_create)"
     ],
     "language": "python",
     "metadata": {
      "internals": {
       "frag_helper": "fragment_end",
       "frag_number": 1,
       "slide_helper": "subslide_end",
       "slide_type": "subslide"
      },
      "slide_helper": "slide_end",
      "slideshow": {
       "slide_type": "subslide"
      }
     },
     "outputs": []
    },
    {
     "cell_type": "markdown",
     "metadata": {
      "internals": {
       "frag_helper": "fragment_end",
       "frag_number": 1,
       "slide_helper": "subslide_end",
       "slide_type": "subslide"
      },
      "slide_helper": "subslide_end",
      "slideshow": {
       "slide_type": "slide"
      }
     },
     "source": [
      "- **String concatenation**: it's far more efficient concatenating strings *\u00e0-la-C* rather than using a string sum. This can be achieved with the modulus operator (`%`, see an example below). You can also use the [str.format][1] function for reaching the same effect.\n",
      "\n",
      "[1]:https://docs.python.org/2/library/stdtypes.html#str.format"
     ]
    },
    {
     "cell_type": "code",
     "collapsed": false,
     "input": [
      "vowels = ['a', 'e', 'i', 'o', 'u']\n",
      "consonants = sorted(list(set(string.ascii_lowercase) - set(vowels)))"
     ],
     "language": "python",
     "metadata": {
      "internals": {
       "frag_helper": "fragment_end",
       "frag_number": 1,
       "slide_helper": "subslide_end",
       "slide_type": "subslide"
      },
      "slide_helper": "subslide_end",
      "slideshow": {
       "slide_type": "subslide"
      }
     },
     "outputs": []
    },
    {
     "cell_type": "code",
     "collapsed": false,
     "input": [
      "def strings_summing_1():\n",
      "    s = \"\"\n",
      "    for letter in consonants:\n",
      "        s += letter\n",
      "    return s\n",
      "\n",
      "timeit.timeit(strings_summing_1, number=10000)  # strings_summing_1 it's a function object"
     ],
     "language": "python",
     "metadata": {
      "internals": {
       "frag_helper": "fragment_end",
       "frag_number": 1,
       "slide_type": "subslide"
      },
      "slideshow": {
       "slide_type": "subslide"
      }
     },
     "outputs": []
    },
    {
     "cell_type": "code",
     "collapsed": false,
     "input": [
      "def strings_joining():\n",
      "    return \"\".join(consonants)\n",
      "\n",
      "timeit.timeit(strings_joining, number=10000)"
     ],
     "language": "python",
     "metadata": {
      "internals": {
       "slide_helper": "subslide_end"
      },
      "slide_helper": "subslide_end",
      "slideshow": {
       "slide_type": "-"
      }
     },
     "outputs": []
    },
    {
     "cell_type": "code",
     "collapsed": false,
     "input": [
      "def strings_summing_2():\n",
      "    s = \"\"\n",
      "    for letter in consonants:\n",
      "        s += letter\n",
      "    return s\n",
      "\n",
      "timeit.timeit(strings_summing_2, number=10000)"
     ],
     "language": "python",
     "metadata": {
      "internals": {
       "frag_helper": "fragment_end",
       "frag_number": 1,
       "slide_type": "subslide"
      },
      "slideshow": {
       "slide_type": "subslide"
      }
     },
     "outputs": []
    },
    {
     "cell_type": "code",
     "collapsed": false,
     "input": [
      "def strings_a_la_c():\n",
      "    formatter = \"%s\" * len(consonants)  # Multiplying a string with a number copies it many times\n",
      "    return formatter % tuple(consonants)  # Format-modulus operator should ALWAYS be used like: str % tuple\n",
      "\n",
      "timeit.timeit(strings_a_la_c, number=10000)"
     ],
     "language": "python",
     "metadata": {
      "internals": {
       "slide_helper": "subslide_end"
      },
      "slide_helper": "slide_end",
      "slideshow": {
       "slide_type": "-"
      }
     },
     "outputs": []
    },
    {
     "cell_type": "markdown",
     "metadata": {
      "internals": {
       "frag_helper": "fragment_end",
       "frag_number": 1,
       "slide_helper": "subslide_end",
       "slide_type": "subslide"
      },
      "slide_helper": "subslide_end",
      "slideshow": {
       "slide_type": "slide"
      }
     },
     "source": [
      "- **Try to use more built-in functions**: by using them, less instructions are generated and, as a consequence, speed increases."
     ]
    },
    {
     "cell_type": "markdown",
     "metadata": {
      "internals": {
       "slide_type": "subslide"
      },
      "slideshow": {
       "slide_type": "subslide"
      }
     },
     "source": [
      "<i><u>Setup a dictionary using two lists with same length:</u></i> `zip` plus generators (the sentence `x for x in iterable` is an implicit generator). `zip` takes `n` iterables (`a`, `b`, `c`, ...) and composes a tuple list:"
     ]
    },
    {
     "cell_type": "markdown",
     "metadata": {
      "internals": {},
      "slideshow": {
       "slide_type": "-"
      }
     },
     "source": [
      "```python\n",
      "[(a[0], b[0], c[0], ...), (a[1], b[1], c[1], ...), ...)\n",
      "```"
     ]
    },
    {
     "cell_type": "code",
     "collapsed": false,
     "input": [
      "{k:v for k,v in zip([\"a\",\"b\",\"c\"], [1,2,3])}"
     ],
     "language": "python",
     "metadata": {
      "internals": {
       "slide_helper": "subslide_end"
      },
      "slide_helper": "subslide_end",
      "slideshow": {
       "slide_type": "-"
      }
     },
     "outputs": []
    },
    {
     "cell_type": "markdown",
     "metadata": {
      "internals": {
       "frag_helper": "fragment_end",
       "frag_number": 1,
       "slide_type": "subslide"
      },
      "slideshow": {
       "slide_type": "subslide"
      }
     },
     "source": [
      "<i><u>Making a vector dot product:</u></i> `sum`, `map` and `operator`"
     ]
    },
    {
     "cell_type": "markdown",
     "metadata": {
      "internals": {
       "slide_helper": "subslide_end"
      },
      "slide_helper": "subslide_end",
      "slideshow": {
       "slide_type": "-"
      }
     },
     "source": [
      "\\begin{eqnarray}\n",
      "\\vec{a}=(1,2,3) \\\\\n",
      "\\vec{b}=(4,-5,6) \\\\\n",
      "\\vec{a} \\cdot \\vec{b} = 1(4)+2(-5)+3(6) = 4-10+18=12.\n",
      "\\end{eqnarray}\n",
      "\n"
     ]
    },
    {
     "cell_type": "code",
     "collapsed": false,
     "input": [
      "a = [1, 2, 3]\n",
      "b = [4, -5, 6]\n",
      "\n",
      "def dotproduct(vec_a, vec_b):\n",
      "    return sum(map(operator.mul, vec_a, vec_b))\n",
      "\n",
      "print \"Dot product: %d\" % dotproduct(a, b)\n",
      "print\n",
      "print \"Disassembly:\"\n",
      "dis.dis(dotproduct)"
     ],
     "language": "python",
     "metadata": {
      "internals": {
       "slide_helper": "subslide_end",
       "slide_type": "subslide"
      },
      "slide_helper": "slide_end",
      "slideshow": {
       "slide_type": "subslide"
      }
     },
     "outputs": []
    },
    {
     "cell_type": "markdown",
     "metadata": {
      "internals": {
       "frag_helper": "fragment_end",
       "frag_number": 1,
       "slide_type": "subslide"
      },
      "slideshow": {
       "slide_type": "slide"
      }
     },
     "source": [
      "- (And, reached this point, outside this Lightning Talk) **Try using native extensions in C/C++ or any compiled language**. It is recommended having Cython close to hand for making Python connections easier, due the fact that native extensions can be transaprently imported into Python applications."
     ]
    },
    {
     "cell_type": "markdown",
     "metadata": {
      "internals": {
       "frag_helper": "fragment_end",
       "frag_number": 1,
       "slide_helper": "subslide_end"
      },
      "slide_helper": "slide_end",
      "slideshow": {
       "slide_type": "-"
      }
     },
     "source": [
      "Python, like most VMs, uses a *Just in time* (JIT) running scheme. By using Cython, which uses the *Ahead of time* (AOT) scheme, runs more closed to the CPU granting more performance."
     ]
    },
    {
     "cell_type": "markdown",
     "metadata": {
      "internals": {
       "frag_helper": "fragment_end",
       "frag_number": 1,
       "slide_helper": "subslide_end",
       "slide_type": "subslide"
      },
      "slide_helper": "slide_end",
      "slideshow": {
       "slide_type": "slide"
      }
     },
     "source": [
      "More optimization tips:\n",
      "\n",
      "<https://wiki.python.org/moin/PythonSpeed/PerformanceTips>"
     ]
    },
    {
     "cell_type": "markdown",
     "metadata": {
      "internals": {
       "frag_helper": "fragment_end",
       "frag_number": 1,
       "slide_helper": "subslide_end",
       "slide_type": "subslide"
      },
      "slide_helper": "slide_end",
      "slideshow": {
       "slide_type": "slide"
      }
     },
     "source": [
      "THANK YOU! :)\n",
      "============="
     ]
    }
   ],
   "metadata": {}
  }
 ]
}